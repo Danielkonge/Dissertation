{
 "cells": [
  {
   "cell_type": "code",
   "execution_count": 1,
   "id": "d437fe63-4f92-402a-84af-a88341e43d48",
   "metadata": {},
   "outputs": [],
   "source": [
    "from main_functions import *\n",
    "from numba import njit"
   ]
  },
  {
   "cell_type": "code",
   "execution_count": 2,
   "id": "d9711de3-b9e5-4aa7-84ca-7f0c2726a236",
   "metadata": {},
   "outputs": [
    {
     "data": {
      "text/plain": [
       "array([array([1, 3], dtype=int32), array([2], dtype=int32)], dtype=object)"
      ]
     },
     "execution_count": 2,
     "metadata": {},
     "output_type": "execute_result"
    }
   ],
   "source": [
    "g_sl2_1 = np.array([1,3], dtype=np.int32) #1-graded (1,3)\n",
    "g_sl2_2 = np.array([2], dtype=np.int32) #2-graded (2)\n",
    "g_sl2 = np.array([g_sl2_1,g_sl2_2], dtype=object); \n",
    "g_sl2"
   ]
  },
  {
   "cell_type": "code",
   "execution_count": 6,
   "id": "6ef7e56c-27ec-4224-80a6-893194c456af",
   "metadata": {},
   "outputs": [],
   "source": [
    "# g = g^1 + g^2, we order them g^1, g^2, \n",
    "# where g^1 = span(e_1, e_3), g^2 = span(e_2)\n",
    "# so the prefered order is: \n",
    "# e_1 (1st), e_3 (2nd), e_2 (3rd),\n",
    "# i.e., in a zero indexed list:\n",
    "# (e_1 =) 1-->0, (e_2 =) 2-->2, 3-->1\n",
    "e_sort_sl2 = np.array([0,2,1], dtype=np.int32)"
   ]
  },
  {
   "cell_type": "code",
   "execution_count": 4,
   "id": "ca754dbd-b541-4301-84f7-7737dce535cf",
   "metadata": {},
   "outputs": [],
   "source": [
    "@njit\n",
    "def commutator(a, b):\n",
    "    sign = 1\n",
    "    if a > b:\n",
    "        a,b = b,a\n",
    "        sign = -1\n",
    "    # to make it easier later, we return lists with the answers, where a x+y = [x,y]\n",
    "    if a==1 and b==3:\n",
    "        return [(-sign,2)]\n",
    "    else:\n",
    "        return [(0,0)]"
   ]
  },
  {
   "cell_type": "code",
   "execution_count": 5,
   "id": "dca03914-b5d8-4995-9a24-241346110de7",
   "metadata": {},
   "outputs": [
    {
     "data": {
      "text/plain": [
       "[(-1, 2)]"
      ]
     },
     "execution_count": 5,
     "metadata": {},
     "output_type": "execute_result"
    }
   ],
   "source": [
    "# We call commutator so it compiles. \n",
    "commutator(1, 3)"
   ]
  },
  {
   "cell_type": "code",
   "execution_count": 7,
   "id": "e42f8685-d998-47fc-b589-d8ff9ffdc70f",
   "metadata": {},
   "outputs": [
    {
     "name": "stdout",
     "output_type": "stream",
     "text": [
      "\n",
      "        ===================================================\n",
      "        Graded F_p cohomology for lie algebra g:\n",
      "        =================================================== \n",
      "\n",
      "        \n",
      "\n",
      "        Max absolute entry in all Smith Normal Forms is 1.\n",
      "\n",
      "        Thus the follwing is true for F_p, for p > 1. \n",
      "\n",
      "\n",
      "\n",
      "        Note:\n",
      "        - H^(0) and H^(nmax) are hardcoded, while the rest are calculated,\n",
      "        and nmax is supposed to be dim(g).\n",
      "        \n",
      "====================\n",
      "\n",
      "H^(0) = H^(0,0): \n",
      " --------- \n",
      "\n",
      "dim H^(0,0) = 1 \n",
      "\n",
      "\n",
      "---------- \n",
      " dim H^(0) = 1 \n",
      "\n",
      "====================\n",
      "\n",
      "H^(1): \n",
      " --------- \n",
      "\n",
      "dim H^(-1,2) = 2\n",
      "\n",
      "---------- \n",
      " dim H^(1) = 2 \n",
      "\n",
      "====================\n",
      "\n",
      "H^(2): \n",
      " --------- \n",
      "\n",
      "dim H^(-3,5) = 2\n",
      "\n",
      "---------- \n",
      " dim H^(2) = 2 \n",
      "\n",
      "====================\n",
      "\n",
      "H^(3) = H^(-4,7): \n",
      " --------- \n",
      "\n",
      "dim H^(-4,7) = 1 \n",
      "\n",
      "\n",
      "---------- \n",
      " dim H^(3) = 1 \n",
      "\n",
      "====================\n"
     ]
    }
   ],
   "source": [
    "print_cohomology(4, 3, g_sl2, e_sort_sl2, commutator)"
   ]
  },
  {
   "cell_type": "code",
   "execution_count": 9,
   "id": "12072865-440c-4012-8ea7-944270b167ef",
   "metadata": {},
   "outputs": [
    {
     "name": "stdout",
     "output_type": "stream",
     "text": [
      "\n",
      "        ===================================================\n",
      "        Non trivial matrices and their SNF:\n",
      "        =================================================== \n",
      "\n",
      "        \n",
      "Max absolute entry in all Smith Normal Forms is 1.\n",
      "\n",
      "\n",
      "---------------------\n",
      "\n",
      "s = -2, t = 3, s+t = 1 ; (j = 2, n = 2):\n",
      "\n",
      "                    d : Hom^(-2)(1 wedges of g, k) --> Hom^(-2)(2 wedges of g, k)\n",
      "                    \n",
      "matrix shape: (1, 1)\n",
      "\n",
      " Matrix:\n",
      "\n",
      "[1]\n",
      "\n",
      " Smith Normal Form:\n",
      "\n",
      "[1]\n",
      "\n",
      " LaTeX code:\n",
      "Matrix: \\left[\\begin{matrix}1\\end{matrix}\\right]\n",
      "Smith Normal Form: \\left[\\begin{matrix}1\\end{matrix}\\right]\n",
      "\n",
      " ------------------------------------------- \n",
      "\n",
      "\n"
     ]
    }
   ],
   "source": [
    "print_cochain_matrices(4, 3, g_sl2, e_sort_sl2, commutator)"
   ]
  },
  {
   "cell_type": "code",
   "execution_count": 11,
   "id": "72fcc6bf-612b-472a-a965-4dc0a3fbb858",
   "metadata": {},
   "outputs": [
    {
     "name": "stdout",
     "output_type": "stream",
     "text": [
      "\n",
      "        ===================================================\n",
      "        gr^j of n wedges of g in terms of g^1, g^2 and g^3:\n",
      "        =================================================== \n",
      "\n",
      "        \n",
      "\n",
      "        Note:\n",
      "        - This prints [(1)] as [(1,)].\n",
      "        - A tuple corresponds to a wedge product,\n",
      "          e.g., (1,1,2) mean g^1 wedge g^1 wedge g^2.\n",
      "        - Tuples in the list correcsponds to summands,\n",
      "          e.g., [(1,3),(2,2)] means\n",
      "          g^1 wedge g^3 direct sum g^2 wedge g^2.\n",
      "        - This doesn't work for 0 wedges of g nor for\n",
      "          dim(g) wedges of g. \n",
      "\n",
      "        \n",
      "------------\n",
      "Grade 0: \n",
      "\n",
      "------------\n",
      "Grade 1: \n",
      "\n",
      "[(1,)]\n",
      "------------\n",
      "Grade 2: \n",
      "\n",
      "[(2,)]\n",
      "[(1, 1)]\n",
      "------------\n",
      "Grade 3: \n",
      "\n",
      "[(1, 2)]\n",
      "------------\n",
      "Grade 4: \n",
      "\n"
     ]
    }
   ],
   "source": [
    "print_grj_nwedge_g(4, 3, g_sl2)"
   ]
  },
  {
   "cell_type": "code",
   "execution_count": null,
   "id": "a7b18438-5032-4a74-8747-1ad9bfde96f7",
   "metadata": {},
   "outputs": [],
   "source": []
  }
 ],
 "metadata": {
  "kernelspec": {
   "display_name": "Python 3 (ipykernel)",
   "language": "python",
   "name": "python3"
  },
  "language_info": {
   "codemirror_mode": {
    "name": "ipython",
    "version": 3
   },
   "file_extension": ".py",
   "mimetype": "text/x-python",
   "name": "python",
   "nbconvert_exporter": "python",
   "pygments_lexer": "ipython3",
   "version": "3.9.7"
  }
 },
 "nbformat": 4,
 "nbformat_minor": 5
}
