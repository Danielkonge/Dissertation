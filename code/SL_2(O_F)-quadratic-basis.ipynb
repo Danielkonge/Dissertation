{
 "cells": [
  {
   "cell_type": "code",
   "execution_count": 1,
   "id": "e82ddfe6",
   "metadata": {},
   "outputs": [],
   "source": [
    "from sympy import *"
   ]
  },
  {
   "cell_type": "code",
   "execution_count": 6,
   "id": "7d1f024e",
   "metadata": {},
   "outputs": [],
   "source": [
    "p, a = symbols('p a') #p = varpi_F, a = alpha in Fi = Q_p(alpha)"
   ]
  },
  {
   "cell_type": "code",
   "execution_count": 3,
   "id": "134b1ce9",
   "metadata": {},
   "outputs": [],
   "source": [
    "x1, x2, x3, x4, x5, x6 = symbols('x1 x2 x3 x4 x5 x6')"
   ]
  },
  {
   "cell_type": "code",
   "execution_count": 7,
   "id": "fcf7651c",
   "metadata": {},
   "outputs": [],
   "source": [
    "g1 = Matrix([[1,0],[p,1]])\n",
    "g2 = Matrix([[1,0],[p*a,1]])\n",
    "g3 = Matrix([[exp(p),0],[0,exp(-p)]])\n",
    "g4 = Matrix([[exp(p*a),0],[0,exp(-p*a)]])\n",
    "g5 = Matrix([[1,1],[0,1]])\n",
    "g6 = Matrix([[1,a],[0,1]])"
   ]
  },
  {
   "cell_type": "code",
   "execution_count": 8,
   "id": "4b8fcfa6",
   "metadata": {},
   "outputs": [
    {
     "data": {
      "text/latex": [
       "$\\displaystyle \\left[\\begin{matrix}1 & 0\\\\a p x_{2} + p x_{1} & 1\\end{matrix}\\right]$"
      ],
      "text/plain": [
       "Matrix([\n",
       "[            1, 0],\n",
       "[a*p*x2 + p*x1, 1]])"
      ]
     },
     "execution_count": 8,
     "metadata": {},
     "output_type": "execute_result"
    }
   ],
   "source": [
    "L = (g1**x1) * (g2**x2)\n",
    "L"
   ]
  },
  {
   "cell_type": "code",
   "execution_count": 9,
   "id": "47c83758",
   "metadata": {},
   "outputs": [
    {
     "data": {
      "text/latex": [
       "$\\displaystyle \\left[\\begin{matrix}\\left(e^{p}\\right)^{x_{3}} \\left(e^{a p}\\right)^{x_{4}} & 0\\\\0 & \\left(e^{- p}\\right)^{x_{3}} \\left(e^{- a p}\\right)^{x_{4}}\\end{matrix}\\right]$"
      ],
      "text/plain": [
       "Matrix([\n",
       "[exp(p)**x3*exp(a*p)**x4,                         0],\n",
       "[                      0, exp(-p)**x3*exp(-a*p)**x4]])"
      ]
     },
     "execution_count": 9,
     "metadata": {},
     "output_type": "execute_result"
    }
   ],
   "source": [
    "M = (g3**x3) * (g4**x4)\n",
    "M"
   ]
  },
  {
   "cell_type": "code",
   "execution_count": 10,
   "id": "157fac4f",
   "metadata": {},
   "outputs": [
    {
     "data": {
      "text/latex": [
       "$\\displaystyle \\left[\\begin{matrix}1 & a x_{6} + x_{5}\\\\0 & 1\\end{matrix}\\right]$"
      ],
      "text/plain": [
       "Matrix([\n",
       "[1, a*x6 + x5],\n",
       "[0,         1]])"
      ]
     },
     "execution_count": 10,
     "metadata": {},
     "output_type": "execute_result"
    }
   ],
   "source": [
    "R = (g5**x5) * (g6**x6)\n",
    "R"
   ]
  },
  {
   "cell_type": "code",
   "execution_count": 11,
   "id": "00e85024",
   "metadata": {},
   "outputs": [
    {
     "data": {
      "text/latex": [
       "$\\displaystyle \\left[\\begin{matrix}\\left(e^{p}\\right)^{x_{3}} \\left(e^{a p}\\right)^{x_{4}} & \\left(a x_{6} + x_{5}\\right) \\left(e^{p}\\right)^{x_{3}} \\left(e^{a p}\\right)^{x_{4}}\\\\\\left(a p x_{2} + p x_{1}\\right) \\left(e^{p}\\right)^{x_{3}} \\left(e^{a p}\\right)^{x_{4}} & \\left(a x_{6} + x_{5}\\right) \\left(a p x_{2} + p x_{1}\\right) \\left(e^{p}\\right)^{x_{3}} \\left(e^{a p}\\right)^{x_{4}} + \\left(e^{- p}\\right)^{x_{3}} \\left(e^{- a p}\\right)^{x_{4}}\\end{matrix}\\right]$"
      ],
      "text/plain": [
       "Matrix([\n",
       "[                exp(p)**x3*exp(a*p)**x4,                                             (a*x6 + x5)*exp(p)**x3*exp(a*p)**x4],\n",
       "[(a*p*x2 + p*x1)*exp(p)**x3*exp(a*p)**x4, (a*x6 + x5)*(a*p*x2 + p*x1)*exp(p)**x3*exp(a*p)**x4 + exp(-p)**x3*exp(-a*p)**x4]])"
      ]
     },
     "execution_count": 11,
     "metadata": {},
     "output_type": "execute_result"
    }
   ],
   "source": [
    "g = L*M*R\n",
    "g"
   ]
  },
  {
   "cell_type": "code",
   "execution_count": 12,
   "id": "f8b19a32",
   "metadata": {},
   "outputs": [],
   "source": [
    "def matrix_commutator(A,B):\n",
    "    return A * B * (A**(-1)) * (B**(-1))"
   ]
  },
  {
   "cell_type": "code",
   "execution_count": 13,
   "id": "72331723",
   "metadata": {},
   "outputs": [
    {
     "data": {
      "text/latex": [
       "$\\displaystyle \\left[\\begin{matrix}1 & 0\\\\0 & 1\\end{matrix}\\right]$"
      ],
      "text/plain": [
       "Matrix([\n",
       "[1, 0],\n",
       "[0, 1]])"
      ]
     },
     "execution_count": 13,
     "metadata": {},
     "output_type": "execute_result"
    }
   ],
   "source": [
    "eye(2)"
   ]
  },
  {
   "cell_type": "code",
   "execution_count": 15,
   "id": "18fa3039",
   "metadata": {},
   "outputs": [
    {
     "name": "stdout",
     "output_type": "stream",
     "text": [
      "g_(1,3) = \n",
      "\n",
      "⎡     1       0⎤\n",
      "⎢              ⎥\n",
      "⎢       -2⋅p   ⎥\n",
      "⎣p - p⋅ℯ      1⎦\n",
      "\n",
      " --------------------- \n",
      "\n",
      "g_(1,4) = \n",
      "\n",
      "⎡      1        0⎤\n",
      "⎢                ⎥\n",
      "⎢       -2⋅a⋅p   ⎥\n",
      "⎣p - p⋅ℯ        1⎦\n",
      "\n",
      " --------------------- \n",
      "\n",
      "g_(1,5) = \n",
      "\n",
      "⎡1 - p        p      ⎤\n",
      "⎢                    ⎥\n",
      "⎢   2                ⎥\n",
      "⎣ -p    p⋅(p + 1) + 1⎦\n",
      "\n",
      " --------------------- \n",
      "\n",
      "g_(1,6) = \n",
      "\n",
      "⎡                2        ⎤\n",
      "⎢-a⋅p + 1       a ⋅p      ⎥\n",
      "⎢                         ⎥\n",
      "⎢     2     2  2          ⎥\n",
      "⎣ -a⋅p     a ⋅p  + a⋅p + 1⎦\n",
      "\n",
      " --------------------- \n",
      "\n",
      "g_(2,3) = \n",
      "\n",
      "⎡       1         0⎤\n",
      "⎢                  ⎥\n",
      "⎢           -2⋅p   ⎥\n",
      "⎣a⋅p - a⋅p⋅ℯ      1⎦\n",
      "\n",
      " --------------------- \n",
      "\n",
      "g_(2,4) = \n",
      "\n",
      "⎡        1          0⎤\n",
      "⎢                    ⎥\n",
      "⎢           -2⋅a⋅p   ⎥\n",
      "⎣a⋅p - a⋅p⋅ℯ        1⎦\n",
      "\n",
      " --------------------- \n",
      "\n",
      "g_(2,5) = \n",
      "\n",
      "⎡-a⋅p + 1         a⋅p       ⎤\n",
      "⎢                           ⎥\n",
      "⎢   2  2                    ⎥\n",
      "⎣ -a ⋅p    a⋅p⋅(a⋅p + 1) + 1⎦\n",
      "\n",
      " --------------------- \n",
      "\n",
      "g_(2,6) = \n",
      "\n",
      "⎡   2               3        ⎤\n",
      "⎢- a ⋅p + 1        a ⋅p      ⎥\n",
      "⎢                            ⎥\n",
      "⎢    3  2     4  2    2      ⎥\n",
      "⎣  -a ⋅p     a ⋅p  + a ⋅p + 1⎦\n",
      "\n",
      " --------------------- \n",
      "\n",
      "g_(3,5) = \n",
      "\n",
      "⎡    2⋅p    ⎤\n",
      "⎢1  ℯ    - 1⎥\n",
      "⎢           ⎥\n",
      "⎣0     1    ⎦\n",
      "\n",
      " --------------------- \n",
      "\n",
      "g_(3,6) = \n",
      "\n",
      "⎡     ⎛ 2⋅p    ⎞⎤\n",
      "⎢1  a⋅⎝ℯ    - 1⎠⎥\n",
      "⎢               ⎥\n",
      "⎣0       1      ⎦\n",
      "\n",
      " --------------------- \n",
      "\n",
      "g_(4,5) = \n",
      "\n",
      "⎡    2⋅a⋅p    ⎤\n",
      "⎢1  ℯ      - 1⎥\n",
      "⎢             ⎥\n",
      "⎣0      1     ⎦\n",
      "\n",
      " --------------------- \n",
      "\n",
      "g_(4,6) = \n",
      "\n",
      "⎡     ⎛ 2⋅a⋅p    ⎞⎤\n",
      "⎢1  a⋅⎝ℯ      - 1⎠⎥\n",
      "⎢                 ⎥\n",
      "⎣0        1       ⎦\n",
      "\n",
      " --------------------- \n",
      "\n"
     ]
    }
   ],
   "source": [
    "gis = [g1,g2,g3,g4,g5,g6]\n",
    "for i in range(len(gis)):\n",
    "    for j in range(i+1,len(gis)):\n",
    "        if matrix_commutator(gis[i],gis[j]) != eye(2):\n",
    "            print(f\"g_({i+1},{j+1}) = \\n\")\n",
    "            pprint(simplify(matrix_commutator(gis[i],gis[j])))\n",
    "            print(\"\\n --------------------- \\n\")"
   ]
  },
  {
   "cell_type": "code",
   "execution_count": 22,
   "id": "49fea985",
   "metadata": {},
   "outputs": [
    {
     "data": {
      "text/latex": [
       "$\\displaystyle \\left[\\begin{matrix}1 & a x_{6} + x_{5}\\\\a p x_{2} + p x_{1} & a x_{6} \\left(a p x_{2} + p x_{1}\\right) + x_{5} \\left(a p x_{2} + p x_{1}\\right) + 1\\end{matrix}\\right]$"
      ],
      "text/plain": [
       "Matrix([\n",
       "[            1,                                     a*x6 + x5],\n",
       "[a*p*x2 + p*x1, a*x6*(a*p*x2 + p*x1) + x5*(a*p*x2 + p*x1) + 1]])"
      ]
     },
     "execution_count": 22,
     "metadata": {},
     "output_type": "execute_result"
    }
   ],
   "source": [
    "(g1**x1)*(g2**x2)*(g5**x5)*(g6**x6)"
   ]
  },
  {
   "cell_type": "code",
   "execution_count": null,
   "id": "d0013fec",
   "metadata": {},
   "outputs": [],
   "source": []
  }
 ],
 "metadata": {
  "kernelspec": {
   "display_name": "Python 3 (ipykernel)",
   "language": "python",
   "name": "python3"
  },
  "language_info": {
   "codemirror_mode": {
    "name": "ipython",
    "version": 3
   },
   "file_extension": ".py",
   "mimetype": "text/x-python",
   "name": "python",
   "nbconvert_exporter": "python",
   "pygments_lexer": "ipython3",
   "version": "3.9.7"
  }
 },
 "nbformat": 4,
 "nbformat_minor": 5
}
