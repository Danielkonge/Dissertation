{
 "cells": [
  {
   "cell_type": "code",
   "execution_count": 1,
   "id": "9467811d-6d45-4ee4-9ba9-07c80a89f622",
   "metadata": {},
   "outputs": [],
   "source": [
    "from sympy import *"
   ]
  },
  {
   "cell_type": "code",
   "execution_count": 2,
   "id": "80f23ef4-8b2a-47b4-96bc-6c78ccbdd090",
   "metadata": {},
   "outputs": [],
   "source": [
    "p = symbols('p') #p prime"
   ]
  },
  {
   "cell_type": "code",
   "execution_count": 3,
   "id": "810a845c-8f15-44b1-b395-4a6f9880ff4e",
   "metadata": {},
   "outputs": [],
   "source": [
    "x1, x2, x3 = symbols('x1 x2 x3')"
   ]
  },
  {
   "cell_type": "code",
   "execution_count": 4,
   "id": "5c672dd3-912d-47b1-9ea0-8fc748df6144",
   "metadata": {},
   "outputs": [],
   "source": [
    "g1 = Matrix([[1,0],[p,1]])\n",
    "g2 = Matrix([[exp(p),0],[0,exp(-p)]])\n",
    "g3 = Matrix([[1,1],[0,1]])"
   ]
  },
  {
   "cell_type": "code",
   "execution_count": 5,
   "id": "dff892c3-0fcb-4e59-a3d1-3035c38f003d",
   "metadata": {},
   "outputs": [
    {
     "data": {
      "text/latex": [
       "$\\displaystyle \\left[\\begin{matrix}\\left(e^{p}\\right)^{x_{2}} & x_{3} \\left(e^{p}\\right)^{x_{2}}\\\\p x_{1} \\left(e^{p}\\right)^{x_{2}} & p x_{1} x_{3} \\left(e^{p}\\right)^{x_{2}} + \\left(e^{- p}\\right)^{x_{2}}\\end{matrix}\\right]$"
      ],
      "text/plain": [
       "Matrix([\n",
       "[     exp(p)**x2,                    x3*exp(p)**x2],\n",
       "[p*x1*exp(p)**x2, p*x1*x3*exp(p)**x2 + exp(-p)**x2]])"
      ]
     },
     "execution_count": 5,
     "metadata": {},
     "output_type": "execute_result"
    }
   ],
   "source": [
    "g = (g1**x1) * (g2**x2) * (g3**x3)\n",
    "g"
   ]
  },
  {
   "cell_type": "code",
   "execution_count": 6,
   "id": "7035a1e3-7161-42e4-b861-04f19932dee4",
   "metadata": {},
   "outputs": [],
   "source": [
    "def matrix_commutator(A,B):\n",
    "    return A * B * (A**(-1)) * (B**(-1))"
   ]
  },
  {
   "cell_type": "code",
   "execution_count": 7,
   "id": "35ce4421-270b-44e9-a548-da3b5fd86451",
   "metadata": {},
   "outputs": [
    {
     "data": {
      "text/latex": [
       "$\\displaystyle \\left[\\begin{matrix}1 & 0\\\\0 & 1\\end{matrix}\\right]$"
      ],
      "text/plain": [
       "Matrix([\n",
       "[1, 0],\n",
       "[0, 1]])"
      ]
     },
     "execution_count": 7,
     "metadata": {},
     "output_type": "execute_result"
    }
   ],
   "source": [
    "eye(2)"
   ]
  },
  {
   "cell_type": "code",
   "execution_count": 8,
   "id": "759d24a0-a458-4f78-b2cc-7c579f54595a",
   "metadata": {},
   "outputs": [
    {
     "name": "stdout",
     "output_type": "stream",
     "text": [
      "g_(1,2) = \n",
      "\n",
      "⎡     1       0⎤\n",
      "⎢              ⎥\n",
      "⎢       -2⋅p   ⎥\n",
      "⎣p - p⋅ℯ      1⎦\n",
      "\n",
      " --------------------- \n",
      "\n",
      "g_(1,3) = \n",
      "\n",
      "⎡1 - p        p      ⎤\n",
      "⎢                    ⎥\n",
      "⎢   2                ⎥\n",
      "⎣ -p    p⋅(p + 1) + 1⎦\n",
      "\n",
      " --------------------- \n",
      "\n",
      "g_(2,3) = \n",
      "\n",
      "⎡    2⋅p    ⎤\n",
      "⎢1  ℯ    - 1⎥\n",
      "⎢           ⎥\n",
      "⎣0     1    ⎦\n",
      "\n",
      " --------------------- \n",
      "\n"
     ]
    }
   ],
   "source": [
    "gis = [g1,g2,g3]\n",
    "for i in range(len(gis)):\n",
    "    for j in range(i+1,len(gis)):\n",
    "        if matrix_commutator(gis[i],gis[j]) != eye(2):\n",
    "            print(f\"g_({i+1},{j+1}) = \\n\")\n",
    "            pprint(simplify(matrix_commutator(gis[i],gis[j])))\n",
    "            print(\"\\n --------------------- \\n\")"
   ]
  },
  {
   "cell_type": "code",
   "execution_count": 25,
   "id": "a4c61626-6415-491d-a9bf-6192db0b1952",
   "metadata": {},
   "outputs": [
    {
     "data": {
      "text/latex": [
       "$\\displaystyle \\left[\\begin{matrix}1 & 0\\\\p x_{1} - p x_{1} e^{- 2 p} & 1\\end{matrix}\\right]$"
      ],
      "text/plain": [
       "Matrix([\n",
       "[                    1, 0],\n",
       "[p*x1 - p*x1*exp(-2*p), 1]])"
      ]
     },
     "execution_count": 25,
     "metadata": {},
     "output_type": "execute_result"
    }
   ],
   "source": [
    "simplify(matrix_commutator(Matrix([[1,0],[p*x1,1]]),Matrix([[exp(p),0],[0,exp(-p)]])))"
   ]
  },
  {
   "cell_type": "code",
   "execution_count": 23,
   "id": "f7949f2e",
   "metadata": {},
   "outputs": [
    {
     "data": {
      "text/latex": [
       "$\\displaystyle \\left[\\begin{matrix}1 & 0\\\\p^{2} & 1\\end{matrix}\\right]$"
      ],
      "text/plain": [
       "Matrix([\n",
       "[   1, 0],\n",
       "[p**2, 1]])"
      ]
     },
     "execution_count": 23,
     "metadata": {},
     "output_type": "execute_result"
    }
   ],
   "source": [
    "Matrix([[1,0],[p,1]])**p"
   ]
  },
  {
   "cell_type": "code",
   "execution_count": 32,
   "id": "a19db47c",
   "metadata": {},
   "outputs": [
    {
     "name": "stdout",
     "output_type": "stream",
     "text": [
      "g_(1,1,2) = \n",
      "\n",
      "⎡1  0⎤\n",
      "⎢    ⎥\n",
      "⎣0  1⎦\n",
      "\n",
      " --------------------- \n",
      "\n",
      "g_(1,1,3) = \n",
      "\n",
      "⎡       4    3    2                    3        ⎤\n",
      "⎢    - p  - p  - p  + 1               p         ⎥\n",
      "⎢                                               ⎥\n",
      "⎢  2 ⎛   3      2          ⎞     4    3    2    ⎥\n",
      "⎣-p ⋅⎝2⋅p  + 3⋅p  + 4⋅p + 2⎠  2⋅p  + p  + p  + 1⎦\n",
      "\n",
      " --------------------- \n",
      "\n",
      "g_(1,2,3) = \n",
      "\n",
      "⎡  ⎛     2⋅p⎞              ⎛ 4⋅p      2⋅p    ⎞      ⎤\n",
      "⎢p⋅⎝1 - ℯ   ⎠ + 1        p⋅⎝ℯ    - 2⋅ℯ    + 1⎠      ⎥\n",
      "⎢                                                   ⎥\n",
      "⎢                               2                   ⎥\n",
      "⎢  2 ⎛     2⋅p⎞     2 ⎛     2⋅p⎞      ⎛     2⋅p⎞    ⎥\n",
      "⎣ p ⋅⎝1 - ℯ   ⎠    p ⋅⎝1 - ℯ   ⎠  - p⋅⎝1 - ℯ   ⎠ + 1⎦\n",
      "\n",
      " --------------------- \n",
      "\n",
      "g_(1,3,2) = \n",
      "\n",
      "⎡  ⎛ 2⋅p    ⎞              ⎛ 4⋅p      2⋅p    ⎞      ⎤\n",
      "⎢p⋅⎝ℯ    - 1⎠ + 1        p⋅⎝ℯ    - 2⋅ℯ    + 1⎠      ⎥\n",
      "⎢                                                   ⎥\n",
      "⎢                               2                   ⎥\n",
      "⎢  2 ⎛ 2⋅p    ⎞     2 ⎛     2⋅p⎞      ⎛     2⋅p⎞    ⎥\n",
      "⎣ p ⋅⎝ℯ    - 1⎠    p ⋅⎝1 - ℯ   ⎠  + p⋅⎝1 - ℯ   ⎠ + 1⎦\n",
      "\n",
      " --------------------- \n",
      "\n",
      "g_(2,1,3) = \n",
      "\n",
      "⎡                3  2⋅p    3                       ⎛     2⋅p⎞        ⎤\n",
      "⎢               p ⋅ℯ    - p  + 1                 p⋅⎝1 - ℯ   ⎠⋅(p - 1)⎥\n",
      "⎢                                                                    ⎥\n",
      "⎢ 2 ⎛   2                        2⋅p    ⎞  -2⋅p     3    3  -2⋅p     ⎥\n",
      "⎣p ⋅⎝- p  - p + (p⋅(p + 1) + 1)⋅ℯ    - 1⎠⋅ℯ      - p  + p ⋅ℯ     + 1 ⎦\n",
      "\n",
      " --------------------- \n",
      "\n",
      "g_(2,2,3) = \n",
      "\n",
      "⎡    4⋅p      2⋅p    ⎤\n",
      "⎢1  ℯ    - 2⋅ℯ    + 1⎥\n",
      "⎢                    ⎥\n",
      "⎣0          1        ⎦\n",
      "\n",
      " --------------------- \n",
      "\n"
     ]
    }
   ],
   "source": [
    "gis = [g1,g2,g3]\n",
    "for i in range(len(gis)):\n",
    "    for k in range(len(gis)):\n",
    "        for j in range(i+1,len(gis)):\n",
    "            if matrix_commutator(gis[k],gis[j]) != eye(2):\n",
    "                print(f\"g_({i+1},{k+1},{j+1}) = \\n\")\n",
    "                pprint(simplify(matrix_commutator(gis[i],matrix_commutator(gis[k],gis[j]))))\n",
    "                print(\"\\n --------------------- \\n\")"
   ]
  },
  {
   "cell_type": "code",
   "execution_count": null,
   "id": "310d1998",
   "metadata": {},
   "outputs": [],
   "source": []
  },
  {
   "cell_type": "code",
   "execution_count": null,
   "id": "bfec5d8e",
   "metadata": {},
   "outputs": [],
   "source": []
  },
  {
   "cell_type": "code",
   "execution_count": null,
   "id": "68de0744",
   "metadata": {},
   "outputs": [],
   "source": []
  }
 ],
 "metadata": {
  "kernelspec": {
   "display_name": "Python 3 (ipykernel)",
   "language": "python",
   "name": "python3"
  },
  "language_info": {
   "codemirror_mode": {
    "name": "ipython",
    "version": 3
   },
   "file_extension": ".py",
   "mimetype": "text/x-python",
   "name": "python",
   "nbconvert_exporter": "python",
   "pygments_lexer": "ipython3",
   "version": "3.9.7"
  }
 },
 "nbformat": 4,
 "nbformat_minor": 5
}
