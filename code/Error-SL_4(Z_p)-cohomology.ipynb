{
 "cells": [
  {
   "cell_type": "code",
   "execution_count": 1,
   "id": "439fb486",
   "metadata": {},
   "outputs": [],
   "source": [
    "from main_functions import *\n",
    "from numba import njit"
   ]
  },
  {
   "cell_type": "code",
   "execution_count": 4,
   "id": "6b7b6900",
   "metadata": {},
   "outputs": [
    {
     "data": {
      "text/plain": [
       "array([array([ 1, 12, 14, 15], dtype=int32),\n",
       "       array([ 2,  4, 11, 13], dtype=int32),\n",
       "       array([ 3,  5,  6, 10], dtype=int32),\n",
       "       array([7, 8, 9], dtype=int32)], dtype=object)"
      ]
     },
     "execution_count": 4,
     "metadata": {},
     "output_type": "execute_result"
    }
   ],
   "source": [
    "g_sl4_1 = np.array([1,12,14,15], dtype=np.int32) #1-graded (1,12,14,15)\n",
    "g_sl4_2 = np.array([2,4,11,13], dtype=np.int32) #2-graded (2,4,11,13)\n",
    "g_sl4_3 = np.array([3,5,6,10], dtype=np.int32) #3-graded (3,5,6,10)\n",
    "g_sl4_4 = np.array([7,8,9], dtype=np.int32) #4-graded (7,8,9)\n",
    "g_sl4 = np.array([g_sl4_1,g_sl4_2,g_sl4_3,g_sl4_4], dtype=object); \n",
    "g_sl4"
   ]
  },
  {
   "cell_type": "code",
   "execution_count": 5,
   "id": "5d4d0c3b",
   "metadata": {},
   "outputs": [],
   "source": [
    "# g = g^1 + g^2 + g^3 + g^4, we order them g^1, g^2, g^3, g^4, \n",
    "# where \n",
    "# g^1 = span(e_1, e_12, e_14, e_15), \n",
    "# g^2 = span(e_2, e_4, e_11, e_13), \n",
    "# g^3 = span(e_3, e_5, e_6, e_10), \n",
    "# g^4 = span(e_7, e_8, e_9)\n",
    "# so the prefered order is: \n",
    "# e_1 (1st), e_12 (2nd), e_14 (3rd), e_15 (4th),\n",
    "# e_2 (5th), e_4 (6th), e_11 (7th), e_13 (8th),\n",
    "# e_3 (9th), e_5 (10th), e_6 (11th), e_10 (12th),\n",
    "# e_7 (13th), e_8 (14th), e_9 (15th)\n",
    "# i.e., in a zero indexed list:\n",
    "# (e_1 =) 1-->0, (e_2 =) 2-->4, 3-->8, 4-->5, 5-->9, 6-->10, 7-->12, 8-->13, \n",
    "# 9-->14, 10-->11, 11-->6, 12-->1, 13-->7, 14-->2, 15-->3\n",
    "e_sort_sl4 = np.array([0,4,8,5,9,10,12,13,14,11,6,1,7,2,3], dtype=np.int32)"
   ]
  },
  {
   "cell_type": "code",
   "execution_count": 8,
   "id": "e3620837",
   "metadata": {},
   "outputs": [],
   "source": [
    "@njit\n",
    "def commutator(a, b):\n",
    "    sign = 1\n",
    "    if a > b:\n",
    "        a,b = b,a\n",
    "        sign = -1\n",
    "    # to make it easier later, we return lists with the answers, where a x+y = [x,y]\n",
    "    if a==1 and b==10:\n",
    "        return [(-sign,9),(-sign,8),(-sign,7)]\n",
    "    elif a==1 and b==11:\n",
    "        return [(-sign,3)]\n",
    "    elif a==1 and b==12:\n",
    "        return [(-sign,2)]\n",
    "    elif a==1 and b==13:\n",
    "        return [(sign,6)]\n",
    "    elif a==1 and b==15:\n",
    "        return [(sign,4)]\n",
    "    elif a==2 and b==13:\n",
    "        return [(-sign,8),(-sign,7)]\n",
    "    elif a==2 and b==14:\n",
    "        return [(-sign,3)]\n",
    "    elif a==2 and b==15:\n",
    "        return [(sign,5)]\n",
    "    elif a==3 and b==15:\n",
    "        return [(-sign,7)]\n",
    "    elif a==4 and b==11:\n",
    "        return [(-sign,9),(-sign,8)]\n",
    "    elif a==4 and b==12:\n",
    "        return [(-sign,5)]\n",
    "    elif a==4 and b==14:\n",
    "        return [(sign,6)]\n",
    "    elif a==5 and b==14:\n",
    "        return [(-sign,8)]      \n",
    "    elif a==6 and b==12:\n",
    "        return [(-sign,9)]\n",
    "    elif a==11 and b==15:\n",
    "        return [(-sign,10)]\n",
    "    elif a==12 and b==13:\n",
    "        return [(-sign,10)]\n",
    "    elif a==12 and b==14:\n",
    "        return [(-sign,11)]\n",
    "    elif a==14 and b==15:\n",
    "        return [(-sign,13)]\n",
    "    else:\n",
    "        return [(0,0)]"
   ]
  },
  {
   "cell_type": "code",
   "execution_count": 9,
   "id": "9ee07d54",
   "metadata": {},
   "outputs": [
    {
     "data": {
      "text/plain": [
       "[(-1, 3)]"
      ]
     },
     "execution_count": 9,
     "metadata": {},
     "output_type": "execute_result"
    }
   ],
   "source": [
    "# We call commutator so it compiles. \n",
    "commutator(1, 11)"
   ]
  },
  {
   "cell_type": "code",
   "execution_count": 13,
   "id": "327cfa9c",
   "metadata": {},
   "outputs": [],
   "source": [
    "#%%time\n",
    "#print_cohomology(27, 7, g_sl4, e_sort_sl4, commutator)\n",
    "\n",
    "# The implementation finding smith normal form in Sympy is too slow making this untennable "
   ]
  },
  {
   "cell_type": "code",
   "execution_count": null,
   "id": "3cb911f3",
   "metadata": {},
   "outputs": [],
   "source": []
  }
 ],
 "metadata": {
  "kernelspec": {
   "display_name": "Python 3 (ipykernel)",
   "language": "python",
   "name": "python3"
  },
  "language_info": {
   "codemirror_mode": {
    "name": "ipython",
    "version": 3
   },
   "file_extension": ".py",
   "mimetype": "text/x-python",
   "name": "python",
   "nbconvert_exporter": "python",
   "pygments_lexer": "ipython3",
   "version": "3.9.7"
  }
 },
 "nbformat": 4,
 "nbformat_minor": 5
}
