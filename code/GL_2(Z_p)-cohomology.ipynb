{
 "cells": [
  {
   "cell_type": "code",
   "execution_count": 1,
   "id": "fa3a3cee-512c-40fb-be2b-f27ff3a543b0",
   "metadata": {},
   "outputs": [],
   "source": [
    "from main_functions import *\n",
    "from numba import njit"
   ]
  },
  {
   "cell_type": "code",
   "execution_count": 2,
   "id": "0a862fbc-308b-4b8d-adb3-85a97250b93e",
   "metadata": {},
   "outputs": [
    {
     "data": {
      "text/plain": [
       "array([[1, 4],\n",
       "       [2, 3]], dtype=object)"
      ]
     },
     "execution_count": 2,
     "metadata": {},
     "output_type": "execute_result"
    }
   ],
   "source": [
    "g_gl2_1 = np.array([1,4], dtype=np.int32) #1-graded (1,3)\n",
    "g_gl2_2 = np.array([2,3], dtype=np.int32) #2-graded (2)\n",
    "g_gl2 = np.array([g_gl2_1,g_gl2_2], dtype=object); \n",
    "g_gl2"
   ]
  },
  {
   "cell_type": "code",
   "execution_count": 3,
   "id": "540e23d6-e5ef-45f2-b351-2eab48c810fc",
   "metadata": {},
   "outputs": [],
   "source": [
    "# g = g^1 + g^2, we order them g^1, g^2, \n",
    "# where g^1 = span(e_1, e_3), g^2 = span(e_2)\n",
    "# so the prefered order is: \n",
    "# e_1 (1st), e_4 (2nd), e_2 (3rd), e_3 (4th)\n",
    "# i.e., in a zero indexed list:\n",
    "# (e_1 =) 1-->0, (e_2 =) 2-->2, 3-->3, 4-->1\n",
    "e_sort_gl2 = np.array([0,2,3,1], dtype=np.int32)"
   ]
  },
  {
   "cell_type": "code",
   "execution_count": 4,
   "id": "267d484e-e542-4f00-a65f-a5083f7247a4",
   "metadata": {},
   "outputs": [],
   "source": [
    "@njit\n",
    "def commutator(a, b):\n",
    "    sign = 1\n",
    "    if a > b:\n",
    "        a,b = b,a\n",
    "        sign = -1\n",
    "    # to make it easier later, we return lists with the answers, where a x+y = [x,y]\n",
    "    if a==1 and b==4:\n",
    "        return [(-sign,2)]\n",
    "    else:\n",
    "        return [(0,0)]"
   ]
  },
  {
   "cell_type": "code",
   "execution_count": 6,
   "id": "67b72ee7-3560-4366-a8bd-02f10d8ad3d5",
   "metadata": {},
   "outputs": [
    {
     "data": {
      "text/plain": [
       "[(-1, 2)]"
      ]
     },
     "execution_count": 6,
     "metadata": {},
     "output_type": "execute_result"
    }
   ],
   "source": [
    "# We call commutator so it compiles. \n",
    "commutator(1, 4)"
   ]
  },
  {
   "cell_type": "code",
   "execution_count": 7,
   "id": "fd69ebd8-f6e0-48ea-8fae-a1e0e69bd865",
   "metadata": {},
   "outputs": [
    {
     "name": "stdout",
     "output_type": "stream",
     "text": [
      "\n",
      "        ===================================================\n",
      "        Graded F_p cohomology for lie algebra g:\n",
      "        =================================================== \n",
      "\n",
      "        \n",
      "\n",
      "        Max absolute entry in all Smith Normal Forms is 1.\n",
      "\n",
      "        Thus the follwing is true for F_p, for p > 1. \n",
      "\n",
      "\n",
      "\n",
      "        Note:\n",
      "        - H^(0) and H^(nmax) are hardcoded, while the rest are calculated,\n",
      "        and nmax is supposed to be dim(g).\n",
      "        \n",
      "====================\n",
      "\n",
      "H^(0) = H^(0,0): \n",
      " --------- \n",
      "\n",
      "dim H^(0,0) = 1 \n",
      "\n",
      "\n",
      "---------- \n",
      " dim H^(0) = 1 \n",
      "\n",
      "====================\n",
      "\n",
      "H^(1): \n",
      " --------- \n",
      "\n",
      "dim H^(-1,2) = 2\n",
      "dim H^(-2,3) = 1\n",
      "\n",
      "---------- \n",
      " dim H^(1) = 3 \n",
      "\n",
      "====================\n",
      "\n",
      "H^(2): \n",
      " --------- \n",
      "\n",
      "dim H^(-3,5) = 4\n",
      "\n",
      "---------- \n",
      " dim H^(2) = 4 \n",
      "\n",
      "====================\n",
      "\n",
      "H^(3): \n",
      " --------- \n",
      "\n",
      "dim H^(-4,7) = 1\n",
      "dim H^(-5,8) = 2\n",
      "\n",
      "---------- \n",
      " dim H^(3) = 3 \n",
      "\n",
      "====================\n",
      "\n",
      "H^(4) = H^(-6,10): \n",
      " --------- \n",
      "\n",
      "dim H^(-6,10) = 1 \n",
      "\n",
      "\n",
      "---------- \n",
      " dim H^(4) = 1 \n",
      "\n",
      "====================\n"
     ]
    }
   ],
   "source": [
    "print_cohomology(6, 4, g_gl2, e_sort_gl2, commutator)"
   ]
  },
  {
   "cell_type": "code",
   "execution_count": 8,
   "id": "0d462792-6cdc-4c86-9a9b-12775aa4a97f",
   "metadata": {},
   "outputs": [
    {
     "name": "stdout",
     "output_type": "stream",
     "text": [
      "\n",
      "        ===================================================\n",
      "        Non trivial matrices and their SNF:\n",
      "        =================================================== \n",
      "\n",
      "        \n",
      "Max absolute entry in all Smith Normal Forms is 1.\n",
      "\n",
      "\n",
      "---------------------\n",
      "\n",
      "s = -2, t = 3, s+t = 1 ; (j = 2, n = 2):\n",
      "\n",
      "                    d : Hom^(-2)(1 wedges of g, k) --> Hom^(-2)(2 wedges of g, k)\n",
      "                    \n",
      "matrix shape: (1, 2)\n",
      "\n",
      " Matrix:\n",
      "\n",
      "[1  0]\n",
      "\n",
      " Smith Normal Form:\n",
      "\n",
      "[1  0]\n",
      "\n",
      " LaTeX code:\n",
      "Matrix: \\left[\\begin{matrix}1 & 0\\end{matrix}\\right]\n",
      "Smith Normal Form: \\left[\\begin{matrix}1 & 0\\end{matrix}\\right]\n",
      "\n",
      " ------------------------------------------- \n",
      "\n",
      "\n",
      "s = -4, t = 6, s+t = 2 ; (j = 4, n = 3):\n",
      "\n",
      "                    d : Hom^(-4)(2 wedges of g, k) --> Hom^(-4)(3 wedges of g, k)\n",
      "                    \n",
      "matrix shape: (2, 1)\n",
      "\n",
      " Matrix:\n",
      "\n",
      "⎡0⎤\n",
      "⎢ ⎥\n",
      "⎣1⎦\n",
      "\n",
      " Smith Normal Form:\n",
      "\n",
      "⎡1⎤\n",
      "⎢ ⎥\n",
      "⎣0⎦\n",
      "\n",
      " LaTeX code:\n",
      "Matrix: \\left[\\begin{matrix}0\\\\1\\end{matrix}\\right]\n",
      "Smith Normal Form: \\left[\\begin{matrix}1\\\\0\\end{matrix}\\right]\n",
      "\n",
      " ------------------------------------------- \n",
      "\n",
      "\n"
     ]
    }
   ],
   "source": [
    "print_cochain_matrices(6, 4, g_gl2, e_sort_gl2, commutator)"
   ]
  },
  {
   "cell_type": "code",
   "execution_count": 9,
   "id": "3abe24be-6297-4369-90d1-a3cdf6b618d8",
   "metadata": {},
   "outputs": [
    {
     "name": "stdout",
     "output_type": "stream",
     "text": [
      "\n",
      "        ===================================================\n",
      "        gr^j of n wedges of g in terms of g^1, g^2 and g^3:\n",
      "        =================================================== \n",
      "\n",
      "        \n",
      "\n",
      "        Note:\n",
      "        - This prints [(1)] as [(1,)].\n",
      "        - A tuple corresponds to a wedge product,\n",
      "          e.g., (1,1,2) mean g^1 wedge g^1 wedge g^2.\n",
      "        - Tuples in the list correcsponds to summands,\n",
      "          e.g., [(1,3),(2,2)] means\n",
      "          g^1 wedge g^3 direct sum g^2 wedge g^2.\n",
      "        - This doesn't work for 0 wedges of g nor for\n",
      "          dim(g) wedges of g. \n",
      "\n",
      "        \n",
      "------------\n",
      "Grade 0: \n",
      "\n",
      "------------\n",
      "Grade 1: \n",
      "\n",
      "[(1,)]\n",
      "------------\n",
      "Grade 2: \n",
      "\n",
      "[(2,)]\n",
      "[(1, 1)]\n",
      "------------\n",
      "Grade 3: \n",
      "\n",
      "[(1, 2)]\n",
      "------------\n",
      "Grade 4: \n",
      "\n",
      "[(2, 2)]\n",
      "[(1, 1, 2)]\n",
      "------------\n",
      "Grade 5: \n",
      "\n",
      "[(1, 2, 2)]\n",
      "------------\n",
      "Grade 6: \n",
      "\n"
     ]
    }
   ],
   "source": [
    "print_grj_nwedge_g(6, 4, g_gl2)"
   ]
  },
  {
   "cell_type": "code",
   "execution_count": null,
   "id": "ca91d619-34a9-4cb6-ab40-a81be162b0ec",
   "metadata": {},
   "outputs": [],
   "source": []
  }
 ],
 "metadata": {
  "kernelspec": {
   "display_name": "Python 3 (ipykernel)",
   "language": "python",
   "name": "python3"
  },
  "language_info": {
   "codemirror_mode": {
    "name": "ipython",
    "version": 3
   },
   "file_extension": ".py",
   "mimetype": "text/x-python",
   "name": "python",
   "nbconvert_exporter": "python",
   "pygments_lexer": "ipython3",
   "version": "3.9.7"
  },
  "toc-autonumbering": false
 },
 "nbformat": 4,
 "nbformat_minor": 5
}
