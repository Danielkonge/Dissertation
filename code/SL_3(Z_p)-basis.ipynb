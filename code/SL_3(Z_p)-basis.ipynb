{
 "cells": [
  {
   "cell_type": "code",
   "execution_count": 1,
   "id": "0fb0a1a2-40ee-468a-9907-3530559ec2da",
   "metadata": {},
   "outputs": [],
   "source": [
    "from sympy import *"
   ]
  },
  {
   "cell_type": "code",
   "execution_count": 2,
   "id": "7d29dff5-41f5-4452-bbc3-76095c7c5b62",
   "metadata": {},
   "outputs": [],
   "source": [
    "p = symbols('p') #p prime"
   ]
  },
  {
   "cell_type": "code",
   "execution_count": 3,
   "id": "a1e718ba-fe7d-4cf8-b249-9a1ccb521339",
   "metadata": {},
   "outputs": [],
   "source": [
    "x1, x2, x3, x4, x5, x6, x7, x8 = symbols('x1 x2 x3 x4 x5 x6 x7 x8')"
   ]
  },
  {
   "cell_type": "code",
   "execution_count": 15,
   "id": "70bc2e7e-dedb-4ee8-8d40-819138417f86",
   "metadata": {},
   "outputs": [],
   "source": [
    "g1 = Matrix([[1,0,0],[0,1,0],[p,0,1]])\n",
    "g2 = Matrix([[1,0,0],[p,1,0],[0,0,1]])\n",
    "g3 = Matrix([[1,0,0],[0,1,0],[0,p,1]])\n",
    "g4 = Matrix([[exp(p),0,0],[0,exp(-p),0],[0,0,1]])\n",
    "g5 = Matrix([[1,0,0],[0,exp(p),0],[0,0,exp(-p)]])\n",
    "g6 = Matrix([[1,0,0],[0,1,1],[0,0,1]])\n",
    "g7 = Matrix([[1,1,0],[0,1,0],[0,0,1]])\n",
    "g8 = Matrix([[1,0,1],[0,1,0],[0,0,1]])"
   ]
  },
  {
   "cell_type": "code",
   "execution_count": 16,
   "id": "61be3413-2cb1-4bf5-b3b1-841a3902f0d9",
   "metadata": {},
   "outputs": [
    {
     "data": {
      "text/latex": [
       "$\\displaystyle \\left[\\begin{matrix}1 & 0 & 0\\\\p x_{2} & 1 & 0\\\\p x_{1} & p x_{3} & 1\\end{matrix}\\right]$"
      ],
      "text/plain": [
       "Matrix([\n",
       "[   1,    0, 0],\n",
       "[p*x2,    1, 0],\n",
       "[p*x1, p*x3, 1]])"
      ]
     },
     "execution_count": 16,
     "metadata": {},
     "output_type": "execute_result"
    }
   ],
   "source": [
    "L = (g1**x1) * (g2**x2) * (g3**x3)\n",
    "L"
   ]
  },
  {
   "cell_type": "code",
   "execution_count": 17,
   "id": "7dee0970-ad46-4401-8b45-eefd9f20f078",
   "metadata": {},
   "outputs": [
    {
     "data": {
      "text/latex": [
       "$\\displaystyle \\left[\\begin{matrix}\\left(e^{p}\\right)^{x_{4}} & 0 & 0\\\\0 & \\left(e^{- p}\\right)^{x_{4}} \\left(e^{p}\\right)^{x_{5}} & 0\\\\0 & 0 & \\left(e^{- p}\\right)^{x_{5}}\\end{matrix}\\right]$"
      ],
      "text/plain": [
       "Matrix([\n",
       "[exp(p)**x4,                      0,           0],\n",
       "[         0, exp(-p)**x4*exp(p)**x5,           0],\n",
       "[         0,                      0, exp(-p)**x5]])"
      ]
     },
     "execution_count": 17,
     "metadata": {},
     "output_type": "execute_result"
    }
   ],
   "source": [
    "M = (g4**x4) * (g5**x5)\n",
    "M"
   ]
  },
  {
   "cell_type": "code",
   "execution_count": 18,
   "id": "67843d9a-922a-4c1c-97b1-960674edd1f6",
   "metadata": {},
   "outputs": [
    {
     "data": {
      "text/latex": [
       "$\\displaystyle \\left[\\begin{matrix}1 & x_{7} & x_{8}\\\\0 & 1 & x_{6}\\\\0 & 0 & 1\\end{matrix}\\right]$"
      ],
      "text/plain": [
       "Matrix([\n",
       "[1, x7, x8],\n",
       "[0,  1, x6],\n",
       "[0,  0,  1]])"
      ]
     },
     "execution_count": 18,
     "metadata": {},
     "output_type": "execute_result"
    }
   ],
   "source": [
    "R = (g6**x6) * (g7**x7) * (g8**x8)\n",
    "R"
   ]
  },
  {
   "cell_type": "code",
   "execution_count": 19,
   "id": "079caa3f-d37e-41a1-9c7d-cb92914f580a",
   "metadata": {},
   "outputs": [
    {
     "data": {
      "text/latex": [
       "$\\displaystyle \\left[\\begin{matrix}\\left(e^{p}\\right)^{x_{4}} & x_{7} \\left(e^{p}\\right)^{x_{4}} & x_{8} \\left(e^{p}\\right)^{x_{4}}\\\\p x_{2} \\left(e^{p}\\right)^{x_{4}} & p x_{2} x_{7} \\left(e^{p}\\right)^{x_{4}} + \\left(e^{- p}\\right)^{x_{4}} \\left(e^{p}\\right)^{x_{5}} & p x_{2} x_{8} \\left(e^{p}\\right)^{x_{4}} + x_{6} \\left(e^{- p}\\right)^{x_{4}} \\left(e^{p}\\right)^{x_{5}}\\\\p x_{1} \\left(e^{p}\\right)^{x_{4}} & p x_{1} x_{7} \\left(e^{p}\\right)^{x_{4}} + p x_{3} \\left(e^{- p}\\right)^{x_{4}} \\left(e^{p}\\right)^{x_{5}} & p x_{1} x_{8} \\left(e^{p}\\right)^{x_{4}} + p x_{3} x_{6} \\left(e^{- p}\\right)^{x_{4}} \\left(e^{p}\\right)^{x_{5}} + \\left(e^{- p}\\right)^{x_{5}}\\end{matrix}\\right]$"
      ],
      "text/plain": [
       "Matrix([\n",
       "[     exp(p)**x4,                                    x7*exp(p)**x4,                                                     x8*exp(p)**x4],\n",
       "[p*x2*exp(p)**x4,      p*x2*x7*exp(p)**x4 + exp(-p)**x4*exp(p)**x5,                    p*x2*x8*exp(p)**x4 + x6*exp(-p)**x4*exp(p)**x5],\n",
       "[p*x1*exp(p)**x4, p*x1*x7*exp(p)**x4 + p*x3*exp(-p)**x4*exp(p)**x5, p*x1*x8*exp(p)**x4 + p*x3*x6*exp(-p)**x4*exp(p)**x5 + exp(-p)**x5]])"
      ]
     },
     "execution_count": 19,
     "metadata": {},
     "output_type": "execute_result"
    }
   ],
   "source": [
    "g = L * M * R\n",
    "g"
   ]
  },
  {
   "cell_type": "code",
   "execution_count": 20,
   "id": "5511ee36-a19a-45c2-9017-7de9533d35c1",
   "metadata": {},
   "outputs": [],
   "source": [
    "def matrix_commutator(A,B):\n",
    "    return A * B * (A**(-1)) * (B**(-1))"
   ]
  },
  {
   "cell_type": "code",
   "execution_count": 10,
   "id": "50bbe369-2edd-4586-b236-78e8c459d752",
   "metadata": {},
   "outputs": [
    {
     "data": {
      "text/latex": [
       "$\\displaystyle \\left[\\begin{matrix}1 & 0 & 0\\\\0 & 1 & 0\\\\0 & 0 & 1\\end{matrix}\\right]$"
      ],
      "text/plain": [
       "Matrix([\n",
       "[1, 0, 0],\n",
       "[0, 1, 0],\n",
       "[0, 0, 1]])"
      ]
     },
     "execution_count": 10,
     "metadata": {},
     "output_type": "execute_result"
    }
   ],
   "source": [
    "eye(3)"
   ]
  },
  {
   "cell_type": "code",
   "execution_count": 21,
   "id": "27be299d-ba6f-46d6-8485-d1034c7c2f57",
   "metadata": {},
   "outputs": [
    {
     "name": "stdout",
     "output_type": "stream",
     "text": [
      "g_(1,4) = \n",
      "\n",
      "⎡    1      0  0⎤\n",
      "⎢               ⎥\n",
      "⎢    0      1  0⎥\n",
      "⎢               ⎥\n",
      "⎢       -p      ⎥\n",
      "⎣p - p⋅ℯ    0  1⎦\n",
      "\n",
      " --------------------- \n",
      "\n",
      "g_(1,5) = \n",
      "\n",
      "⎡    1      0  0⎤\n",
      "⎢               ⎥\n",
      "⎢    0      1  0⎥\n",
      "⎢               ⎥\n",
      "⎢       -p      ⎥\n",
      "⎣p - p⋅ℯ    0  1⎦\n",
      "\n",
      " --------------------- \n",
      "\n",
      "g_(1,6) = \n",
      "\n",
      "⎡1   0  0⎤\n",
      "⎢        ⎥\n",
      "⎢-p  1  0⎥\n",
      "⎢        ⎥\n",
      "⎣0   0  1⎦\n",
      "\n",
      " --------------------- \n",
      "\n",
      "g_(1,7) = \n",
      "\n",
      "⎡1  0  0⎤\n",
      "⎢       ⎥\n",
      "⎢0  1  0⎥\n",
      "⎢       ⎥\n",
      "⎣0  p  1⎦\n",
      "\n",
      " --------------------- \n",
      "\n",
      "g_(1,8) = \n",
      "\n",
      "⎡1 - p  0        p      ⎤\n",
      "⎢                       ⎥\n",
      "⎢  0    1        0      ⎥\n",
      "⎢                       ⎥\n",
      "⎢   2                   ⎥\n",
      "⎣ -p    0  p⋅(p + 1) + 1⎦\n",
      "\n",
      " --------------------- \n",
      "\n",
      "g_(2,3) = \n",
      "\n",
      "⎡ 1   0  0⎤\n",
      "⎢         ⎥\n",
      "⎢ 0   1  0⎥\n",
      "⎢         ⎥\n",
      "⎢  2      ⎥\n",
      "⎣-p   0  1⎦\n",
      "\n",
      " --------------------- \n",
      "\n",
      "g_(2,4) = \n",
      "\n",
      "⎡     1       0  0⎤\n",
      "⎢                 ⎥\n",
      "⎢       -2⋅p      ⎥\n",
      "⎢p - p⋅ℯ      1  0⎥\n",
      "⎢                 ⎥\n",
      "⎣     0       0  1⎦\n",
      "\n",
      " --------------------- \n",
      "\n",
      "g_(2,5) = \n",
      "\n",
      "⎡    1       0  0⎤\n",
      "⎢                ⎥\n",
      "⎢  ⎛     p⎞      ⎥\n",
      "⎢p⋅⎝1 - ℯ ⎠  1  0⎥\n",
      "⎢                ⎥\n",
      "⎣    0       0  1⎦\n",
      "\n",
      " --------------------- \n",
      "\n",
      "g_(2,7) = \n",
      "\n",
      "⎡1 - p        p        0⎤\n",
      "⎢                       ⎥\n",
      "⎢   2                   ⎥\n",
      "⎢ -p    p⋅(p + 1) + 1  0⎥\n",
      "⎢                       ⎥\n",
      "⎣  0          0        1⎦\n",
      "\n",
      " --------------------- \n",
      "\n",
      "g_(2,8) = \n",
      "\n",
      "⎡1  0  0⎤\n",
      "⎢       ⎥\n",
      "⎢0  1  p⎥\n",
      "⎢       ⎥\n",
      "⎣0  0  1⎦\n",
      "\n",
      " --------------------- \n",
      "\n",
      "g_(3,4) = \n",
      "\n",
      "⎡1      0       0⎤\n",
      "⎢                ⎥\n",
      "⎢0      1       0⎥\n",
      "⎢                ⎥\n",
      "⎢     ⎛     p⎞   ⎥\n",
      "⎣0  p⋅⎝1 - ℯ ⎠  1⎦\n",
      "\n",
      " --------------------- \n",
      "\n",
      "g_(3,5) = \n",
      "\n",
      "⎡1       0       0⎤\n",
      "⎢                 ⎥\n",
      "⎢0       1       0⎥\n",
      "⎢                 ⎥\n",
      "⎢          -2⋅p   ⎥\n",
      "⎣0  p - p⋅ℯ      1⎦\n",
      "\n",
      " --------------------- \n",
      "\n",
      "g_(3,6) = \n",
      "\n",
      "⎡1    0          0      ⎤\n",
      "⎢                       ⎥\n",
      "⎢0  1 - p        p      ⎥\n",
      "⎢                       ⎥\n",
      "⎢      2                ⎥\n",
      "⎣0   -p    p⋅(p + 1) + 1⎦\n",
      "\n",
      " --------------------- \n",
      "\n",
      "g_(3,8) = \n",
      "\n",
      "⎡1  -p  0⎤\n",
      "⎢        ⎥\n",
      "⎢0  1   0⎥\n",
      "⎢        ⎥\n",
      "⎣0  0   1⎦\n",
      "\n",
      " --------------------- \n",
      "\n",
      "g_(4,6) = \n",
      "\n",
      "⎡1  0     0    ⎤\n",
      "⎢              ⎥\n",
      "⎢            -p⎥\n",
      "⎢0  1  -1 + ℯ  ⎥\n",
      "⎢              ⎥\n",
      "⎣0  0     1    ⎦\n",
      "\n",
      " --------------------- \n",
      "\n",
      "g_(4,7) = \n",
      "\n",
      "⎡    2⋅p       ⎤\n",
      "⎢1  ℯ    - 1  0⎥\n",
      "⎢              ⎥\n",
      "⎢0     1      0⎥\n",
      "⎢              ⎥\n",
      "⎣0     0      1⎦\n",
      "\n",
      " --------------------- \n",
      "\n",
      "g_(4,8) = \n",
      "\n",
      "⎡       p    ⎤\n",
      "⎢1  0  ℯ  - 1⎥\n",
      "⎢            ⎥\n",
      "⎢0  1    0   ⎥\n",
      "⎢            ⎥\n",
      "⎣0  0    1   ⎦\n",
      "\n",
      " --------------------- \n",
      "\n",
      "g_(5,6) = \n",
      "\n",
      "⎡1  0     0    ⎤\n",
      "⎢              ⎥\n",
      "⎢       2⋅p    ⎥\n",
      "⎢0  1  ℯ    - 1⎥\n",
      "⎢              ⎥\n",
      "⎣0  0     1    ⎦\n",
      "\n",
      " --------------------- \n",
      "\n",
      "g_(5,7) = \n",
      "\n",
      "⎡         -p   ⎤\n",
      "⎢1  -1 + ℯ    0⎥\n",
      "⎢              ⎥\n",
      "⎢0     1      0⎥\n",
      "⎢              ⎥\n",
      "⎣0     0      1⎦\n",
      "\n",
      " --------------------- \n",
      "\n",
      "g_(5,8) = \n",
      "\n",
      "⎡       p    ⎤\n",
      "⎢1  0  ℯ  - 1⎥\n",
      "⎢            ⎥\n",
      "⎢0  1    0   ⎥\n",
      "⎢            ⎥\n",
      "⎣0  0    1   ⎦\n",
      "\n",
      " --------------------- \n",
      "\n",
      "g_(6,7) = \n",
      "\n",
      "⎡1  0  -1⎤\n",
      "⎢        ⎥\n",
      "⎢0  1  0 ⎥\n",
      "⎢        ⎥\n",
      "⎣0  0  1 ⎦\n",
      "\n",
      " --------------------- \n",
      "\n"
     ]
    }
   ],
   "source": [
    "gis = [g1,g2,g3,g4,g5,g6,g7,g8]\n",
    "for i in range(len(gis)):\n",
    "    for j in range(i+1,len(gis)):\n",
    "        if matrix_commutator(gis[i],gis[j]) != eye(3):\n",
    "            print(f\"g_({i+1},{j+1}) = \\n\")\n",
    "            pprint(simplify(matrix_commutator(gis[i],gis[j])))\n",
    "            print(\"\\n --------------------- \\n\")"
   ]
  },
  {
   "cell_type": "code",
   "execution_count": null,
   "id": "9e6eb3fd-e598-4105-8f5c-d0d8bb0a7c86",
   "metadata": {},
   "outputs": [],
   "source": []
  }
 ],
 "metadata": {
  "kernelspec": {
   "display_name": "Python 3 (ipykernel)",
   "language": "python",
   "name": "python3"
  },
  "language_info": {
   "codemirror_mode": {
    "name": "ipython",
    "version": 3
   },
   "file_extension": ".py",
   "mimetype": "text/x-python",
   "name": "python",
   "nbconvert_exporter": "python",
   "pygments_lexer": "ipython3",
   "version": "3.9.7"
  }
 },
 "nbformat": 4,
 "nbformat_minor": 5
}
